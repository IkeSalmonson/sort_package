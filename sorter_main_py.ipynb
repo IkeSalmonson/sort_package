{
  "cells": [
    {
      "cell_type": "markdown",
      "metadata": {
        "id": "view-in-github",
        "colab_type": "text"
      },
      "source": [
        "<a href=\"https://colab.research.google.com/github/IkeSalmonson/sort_package/blob/main/sorter_main_py.ipynb\" target=\"_parent\"><img src=\"https://colab.research.google.com/assets/colab-badge.svg\" alt=\"Open In Colab\"/></a>"
      ]
    },
    {
      "cell_type": "markdown",
      "source": [
        "# Sort function"
      ],
      "metadata": {
        "id": "QZuISlSO5QG9"
      }
    },
    {
      "cell_type": "markdown",
      "source": [
        "1 AI request: Let's create a new project.\n",
        "\n",
        "create a simple python app with the following this assesment rules. Do not create all the code. Create all expected testes using Pytest lib and all files with just bolierplate imports :\n",
        "\n",
        " Rules ... <br>\n",
        " Implementation ...\n",
        " <br>\n",
        " 2 AI request:\n",
        " lets implement main.py. Create the sort function. Start with the return variable as a stack = \"REJECTED\" assuming it's rejected and start checking for if bulky_check and heavy check. Then classify the input as one of the expected classes\n"
      ],
      "metadata": {
        "id": "gCaLvJwa5Y77"
      }
    },
    {
      "cell_type": "code",
      "source": [
        "%%writefile sort.py\n",
        "# sorter/sort.py\n",
        "\n",
        "def sort(width, height, length, mass):\n",
        "    \"\"\"\n",
        "    Sorts a package into a stack based on its dimensions and mass.\n",
        "\n",
        "    Args:\n",
        "        width (int or float): The width of the package in cm.\n",
        "        height (int or float): The height of the package in cm.\n",
        "        length (int or float): The length of the package in cm.\n",
        "        mass (int or float): The mass of the package in kg.\n",
        "\n",
        "    Returns:\n",
        "        str: The name of the stack ('STANDARD', 'SPECIAL', or 'REJECTED').\n",
        "    \"\"\"\n",
        "    # Determine if the package is heavy using a ternary operator, as requested.\n",
        "    is_heavy = True if mass >= 20 else False\n",
        "\n",
        "    # Determine if the package is bulky\n",
        "    volume = width * height * length\n",
        "    is_bulky = volume >= 1_000_000 or width >= 150 or height >= 150 or length >= 150\n",
        "\n",
        "    # Classify the package based on the checks\n",
        "    if is_bulky and is_heavy:\n",
        "        return \"REJECTED\"\n",
        "\n",
        "    if is_bulky or is_heavy:\n",
        "        return \"SPECIAL\"\n",
        "\n",
        "    return \"STANDARD\""
      ],
      "outputs": [
        {
          "output_type": "stream",
          "name": "stdout",
          "text": [
            "Writing sort.py\n"
          ]
        }
      ],
      "execution_count": 9,
      "metadata": {
        "colab": {
          "base_uri": "https://localhost:8080/"
        },
        "id": "X05cV5AE4Tok",
        "outputId": "312d04cb-128d-4d20-8e00-7c30a3ff9b29"
      }
    },
    {
      "cell_type": "markdown",
      "source": [
        "# Testing"
      ],
      "metadata": {
        "id": "3BIv-n7R4d2t"
      }
    },
    {
      "cell_type": "code",
      "source": [
        "%%writefile test_sort.py\n",
        "# tests/test_main.py\n",
        "import pytest\n",
        "from sort import sort\n",
        "\n",
        "# Test cases are defined as tuples: (width, height, length, mass, expected_stack)\n",
        "test_cases = [\n",
        "    # 1. STANDARD packages (Not bulky, Not heavy)\n",
        "    (10, 10, 10, 10, \"STANDARD\"),\n",
        "    (100, 100, 99, 19, \"STANDARD\"), # Volume is 990,000 < 1,000,000\n",
        "    (149, 10, 10, 19, \"STANDARD\"), # No dimension >= 150\n",
        "\n",
        "    # 2. SPECIAL packages (Bulky OR Heavy, but not both)\n",
        "    # Bulky by volume, but not heavy\n",
        "    (100, 100, 100, 10, \"SPECIAL\"), # Volume is exactly 1,000,000\n",
        "    (101, 100, 100, 15, \"SPECIAL\"), # Volume is > 1,000,000\n",
        "    # Bulky by dimension, but not heavy\n",
        "    (150, 10, 10, 10, \"SPECIAL\"),   # Width is exactly 150\n",
        "    (10, 160, 10, 15, \"SPECIAL\"),   # Height is > 150\n",
        "    (10, 10, 170, 19, \"SPECIAL\"),   # Length is > 150\n",
        "    # Heavy, but not bulky\n",
        "    (10, 10, 10, 20, \"SPECIAL\"),     # Mass is exactly 20\n",
        "    (50, 50, 50, 25, \"SPECIAL\"),     # Mass is > 20\n",
        "\n",
        "    # 3. REJECTED packages (Both Bulky AND Heavy)\n",
        "    # Bulky by volume AND heavy\n",
        "    (100, 100, 100, 20, \"REJECTED\"), # Volume >= 1,000,000 and Mass >= 20\n",
        "    (120, 100, 100, 30, \"REJECTED\"), # Volume > 1,000,000 and Mass > 20\n",
        "    # Bulky by dimension AND heavy\n",
        "    (150, 10, 10, 20, \"REJECTED\"),   # Width >= 150 and Mass >= 20\n",
        "    (100, 200, 10, 25, \"REJECTED\"),  # Height >= 150 and Mass >= 20\n",
        "    (10, 10, 150, 22, \"REJECTED\"),   # Length >= 150 and Mass >= 20\n",
        "]\n",
        "\n",
        "@pytest.mark.parametrize(\"width, height, length, mass, expected\", test_cases)\n",
        "def test_sort_packages(width, height, length, mass, expected):\n",
        "    \"\"\"\n",
        "    Tests the sort function with various package dimensions and masses.\n",
        "    The @pytest.mark.parametrize decorator runs this test function once for each\n",
        "    tuple in the 'test_cases' list.\n",
        "    \"\"\"\n",
        "    assert sort(width, height, length, mass) == expected"
      ],
      "metadata": {
        "id": "CMvDOCNe64zm"
      },
      "execution_count": null,
      "outputs": []
    },
    {
      "cell_type": "code",
      "source": [
        "!pytest\n"
      ],
      "metadata": {
        "colab": {
          "base_uri": "https://localhost:8080/"
        },
        "id": "MS8JRgqQ5nrq",
        "outputId": "515c3aea-2aae-4d3d-da7c-26e5f59dbc88"
      },
      "execution_count": 14,
      "outputs": [
        {
          "output_type": "stream",
          "name": "stdout",
          "text": [
            "\u001b[1m============================= test session starts ==============================\u001b[0m\n",
            "platform linux -- Python 3.11.13, pytest-8.3.5, pluggy-1.6.0\n",
            "rootdir: /content\n",
            "plugins: anyio-4.9.0, langsmith-0.4.6, typeguard-4.4.4\n",
            "\u001b[1mcollecting ... \u001b[0m\u001b[1m\rcollected 15 items                                                             \u001b[0m\n",
            "\n",
            "test_sorter.py \u001b[32m.\u001b[0m\u001b[32m.\u001b[0m\u001b[32m.\u001b[0m\u001b[32m.\u001b[0m\u001b[32m.\u001b[0m\u001b[32m.\u001b[0m\u001b[32m.\u001b[0m\u001b[32m.\u001b[0m\u001b[32m.\u001b[0m\u001b[32m.\u001b[0m\u001b[32m.\u001b[0m\u001b[32m.\u001b[0m\u001b[32m.\u001b[0m\u001b[32m.\u001b[0m\u001b[32m.\u001b[0m\u001b[32m                                           [100%]\u001b[0m\n",
            "\n",
            "\u001b[32m============================== \u001b[32m\u001b[1m15 passed\u001b[0m\u001b[32m in 0.03s\u001b[0m\u001b[32m ==============================\u001b[0m\n"
          ]
        }
      ]
    }
  ],
  "metadata": {
    "colab": {
      "provenance": [],
      "include_colab_link": true
    },
    "kernelspec": {
      "display_name": "Python 3",
      "name": "python3"
    }
  },
  "nbformat": 4,
  "nbformat_minor": 0
}